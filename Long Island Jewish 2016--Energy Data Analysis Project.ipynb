{
 "cells": [
  {
   "cell_type": "markdown",
   "metadata": {},
   "source": [
    "# Long Island Jewish Medical Center | Northwell Health—Energy Data Analysis Project\n",
    "### Created by Evan McFarland"
   ]
  },
  {
   "cell_type": "markdown",
   "metadata": {},
   "source": [
    "HOW TO READ THIS PROGRAM: Refer to README file for project scope. This program uses a very simple chronological setup. Each section is a separated concept. Each subsection has 3 blocks that are titled with \"variables, values, and equations\" which should leave no doubt as to what each variable means, where it comes from, and how it is used. Variables are not repeated so if sections in the lower parts of this program do not redefine a variable, that means it was already defined in previous sections.\n",
    "\n",
    "Each value here is on an annual baisis but the code has no time dimension so units do not specify time frames. This program will run for daily, weekly, or monthly data so long as all of the variables are consistent with that time frame. Every value that does not have a source comes from plant data."
   ]
  },
  {
   "cell_type": "markdown",
   "metadata": {},
   "source": [
    "## Section 1: Using Conservation of Energy to Calculate Efficiency"
   ]
  },
  {
   "cell_type": "markdown",
   "metadata": {},
   "source": [
    "### Section 1.1: Conversion Factors\n",
    "\n",
    "- There a few nuances of the plant that need to be accounted for before diving into calculations. Two correction factors are calculated here and used throughout the program:\n",
    "    - Therms in boilers - Converts the theoretical therms that are released from perfect combustion of liquid natral gas. This is nessasary because cogen units given are already in therms while boiler is not.\n",
    "    - Boiler maintenence correction factor - Both boilers and cogeneration accrrue maintence costs but they output different amounts of energy. Since the boilers output more than 5 times the energy of cogen, their maintenence costs must be equalized to account for this. "
   ]
  },
  {
   "cell_type": "markdown",
   "metadata": {},
   "source": [
    "#### Conversion Factor Variables"
   ]
  },
  {
   "cell_type": "code",
   "execution_count": 22,
   "metadata": {},
   "outputs": [],
   "source": [
    "therms_in_boilers = 'tot therms (converted from natral gas) that go into the boiler'\n",
    "gas_to_therms = 'conversion factor for energy in therms per cubic foot of natral gas'   # retreived from https://sciencing.com/convert-cubic-feet-therms-8374234.html\n",
    "gas_in_boilers = 'how much gas is actually put into the boilers in ft^3' \n",
    "therms_in_cogen = 'how many therms enter into the cogen plant (given by sponsor)'\n",
    "boiler_maintence_correction_factor = 'this accounts for the fact that the boiler has greater energy output and its maintence costs get weighted' "
   ]
  },
  {
   "cell_type": "markdown",
   "metadata": {},
   "source": [
    "#### Conversion Factor Values"
   ]
  },
  {
   "cell_type": "code",
   "execution_count": 23,
   "metadata": {},
   "outputs": [],
   "source": [
    "gas_in_boilers = 443670000\n",
    "gas_to_therms = 0.01034       # constant from source above\n",
    "therms_in_cogen = 751635"
   ]
  },
  {
   "cell_type": "markdown",
   "metadata": {},
   "source": [
    "#### Conversion Factor Equations"
   ]
  },
  {
   "cell_type": "code",
   "execution_count": 24,
   "metadata": {},
   "outputs": [
    {
     "name": "stdout",
     "output_type": "stream",
     "text": [
      "Therms Into Boilers\n",
      "4587547.8\n",
      "\n",
      "Boiler Maintenence Correction Factor\n",
      "6.1\n"
     ]
    }
   ],
   "source": [
    "therms_in_boilers = gas_in_boilers * gas_to_therms\n",
    "boiler_maintence_correction_factor = therms_in_boilers / therms_in_cogen\n",
    "therms_in_boilers = round(therms_in_boilers, 4)\n",
    "boiler_maintence_correction_factor = round(boiler_maintence_correction_factor, 2)\n",
    "print('Therms Into Boilers')\n",
    "print(therms_in_boilers)\n",
    "print()\n",
    "print('Boiler Maintenence Correction Factor')\n",
    "print(boiler_maintence_correction_factor)"
   ]
  },
  {
   "cell_type": "markdown",
   "metadata": {},
   "source": [
    "### Section 1.2: Cogeneration"
   ]
  },
  {
   "cell_type": "markdown",
   "metadata": {},
   "source": [
    "#### Cogeneration Variables"
   ]
  },
  {
   "cell_type": "code",
   "execution_count": 25,
   "metadata": {},
   "outputs": [],
   "source": [
    "Nc = 'Efficency of CoGen'\n",
    "Nc_econ = 'Economic Efficency of Cogen' \n",
    "therms_out_cogen = 'how much heat was recovered from cogen exaust gasses'"
   ]
  },
  {
   "cell_type": "markdown",
   "metadata": {},
   "source": [
    "#### Cogeneration Values"
   ]
  },
  {
   "cell_type": "code",
   "execution_count": 26,
   "metadata": {},
   "outputs": [],
   "source": [
    "therms_out_cogen = 339348\n",
    "ratio_kwh_to_therms = 0.034130    # retreived from https://www.metric-conversions.org/energy-and-power/kilowatt-hours-to-therms-us.htm\n",
    "kwh_generated = 7710200"
   ]
  },
  {
   "cell_type": "markdown",
   "metadata": {},
   "source": [
    "#### Cogeneration Equations"
   ]
  },
  {
   "cell_type": "code",
   "execution_count": 27,
   "metadata": {},
   "outputs": [],
   "source": [
    "kwh_therms_equivalent = kwh_generated * ratio_kwh_to_therms\n",
    "Nc = (therms_out_cogen + kwh_therms_equivalent) / therms_in_cogen"
   ]
  },
  {
   "cell_type": "markdown",
   "metadata": {},
   "source": [
    "### Section 1.3: Boilers"
   ]
  },
  {
   "cell_type": "markdown",
   "metadata": {},
   "source": [
    "#### Boiler Variables"
   ]
  },
  {
   "cell_type": "code",
   "execution_count": 28,
   "metadata": {},
   "outputs": [],
   "source": [
    "S_mass = 'steam output lbm/month'\n",
    "S_energy = 'steam btu/lbm out of boilers #from steam tables'  # retreived from https://www.engineeringtoolbox.com/saturated-steam-properties-d_273.html\n",
    "S_total_energy = 'steam total monthly energy'    \n",
    "G_energy_lbm = 'gas energy (btu/lbm)'  # retreived from https://www.engineeringtoolbox.com/heating-values-fuel-gases-d_823.html\n",
    "G_vol = 'gas input to boilers (cubic feet)'   # given by sponser\n",
    "G_energy_ft3 = 'gas energy  (btu/cubic foot)'  # retreived from https://www.engineeringtoolbox.com/heating-values-fuel-gases-d_823.html\n",
    "Nb = 'boiler efficiency'\n",
    "Nb_econ = 'boiler economic efficiency'"
   ]
  },
  {
   "cell_type": "markdown",
   "metadata": {},
   "source": [
    "#### Boiler Values"
   ]
  },
  {
   "cell_type": "code",
   "execution_count": 29,
   "metadata": {},
   "outputs": [],
   "source": [
    "S_mass = 367597000\n",
    "stm_energy = 1193         # constant - this is enthalpy in btu/lb satturated vapor at 120 psi from source above\n",
    "S_energy = 1013           # This is steam out energy - deairator in energy (180btu/lbm) which is the properties of water in a 212F deairator\n",
    "G_vol = gas_in_boilers\n",
    "G_energy_ft3 = 1034     # constant - 1034btu/ft^3 of natral gas and consistent with 1therm/99976btu, i.e., the value for \"gas_to_therms\"\n",
    "G_vol_to_therm = 96.7   # in ft^3 and gives you therms when dividing 96.7 ft^3 "
   ]
  },
  {
   "cell_type": "markdown",
   "metadata": {},
   "source": [
    "#### Boiler Calculations"
   ]
  },
  {
   "cell_type": "code",
   "execution_count": 30,
   "metadata": {},
   "outputs": [
    {
     "name": "stdout",
     "output_type": "stream",
     "text": [
      "372375761000\n"
     ]
    }
   ],
   "source": [
    "G_energy_btu = G_vol * G_energy_ft3       #(G_vol_to_therm / gas_to_therms)\n",
    "S_total_energy = S_mass * S_energy        #G_total_energy = G_energy_btu * G_energy_ft3  (therms_out_cogen * 99976)\n",
    "Nb = (S_total_energy) / G_energy_btu \n",
    "print(S_total_energy)"
   ]
  },
  {
   "cell_type": "code",
   "execution_count": 31,
   "metadata": {},
   "outputs": [
    {
     "name": "stdout",
     "output_type": "stream",
     "text": [
      "Cogeneration Plant Efficiency\n",
      "80.16 %\n",
      "\n",
      "\n",
      "Boiler Plant Efficiency\n",
      "81.17 %\n"
     ]
    }
   ],
   "source": [
    "print('Cogeneration Plant Efficiency')\n",
    "Nc = round(Nc, 4)\n",
    "print(Nc * 100,'%')\n",
    "print('\\n')\n",
    "print('Boiler Plant Efficiency')\n",
    "Nb = round(Nb, 4)\n",
    "print(Nb * 100,'%')"
   ]
  },
  {
   "cell_type": "markdown",
   "metadata": {},
   "source": [
    "## Section 2: Calculating Economic Efficiency (Actual Efficiency)"
   ]
  },
  {
   "cell_type": "markdown",
   "metadata": {},
   "source": [
    "## Economic Efficiency\n",
    "Sections 1-3 used conservation of energy to determine theoretical efficiency of boilers and cogeneration. The results clearly favor boilers in terms of efficiency but this does  not provide a comprehensive picture of plant efficiency. \n",
    "    \n",
    "Local laws 95 and 97 track consumption per square foot when rating the sustainability of buildings. Thus, legislative consideration of other energy production factors comes to a halt at this point in the analysis. The remainder of this program performs comprehensive analysis of building sustainability by adding previously ignored factors—namely, the realization that on site electricity generation reduces regional carbon emmissions. \n",
    "\n",
    "Economic Efficiency is a hypothetical ratio used to represent actual dollar value efficiency, i.e., (dollars_in / dollars_out) instead of (Energy_in / Energy_out). This is a better representation of efficiency when comparing cogeneration and boiler output side by side because they don't produce the same type of energy. For example and as we'll see, the theoretical energy equivalents of kWh and Therms for a powerplant distributing energy to NYC is actually 4.5 times more valuable in kWh form than in Therm form. This is because converting fuel into heat is much more energy efficient than converting fuel into electricity. From the perspective of Local Laws 95 and 97, this is perhaps easy to overlook because it is designed for buildings, not hospitals (which uniquely need on site electricity generation)."
   ]
  },
  {
   "cell_type": "markdown",
   "metadata": {},
   "source": [
    "### Section 2.1: Cogeneration "
   ]
  },
  {
   "cell_type": "markdown",
   "metadata": {},
   "source": [
    "#### Cogeneration Variables"
   ]
  },
  {
   "cell_type": "code",
   "execution_count": 32,
   "metadata": {},
   "outputs": [],
   "source": [
    "kwh_generated = 'kwh generated per month (kWh)'\n",
    "cogen_maintenence_therm = 'maintence cost converted to therms'"
   ]
  },
  {
   "cell_type": "markdown",
   "metadata": {},
   "source": [
    "#### Cogeneration Values"
   ]
  },
  {
   "cell_type": "code",
   "execution_count": 33,
   "metadata": {},
   "outputs": [],
   "source": [
    "cogen_maintence_therms = 369226\n",
    "dollars_per_therm_interuptable = 0.45       # constant - from LIJ energy bills\n",
    "dollars_per_therm_noninteruptable = 0.60    # constant - from LIJ energy bills (not currently used but this is subject to change)\n",
    "dollars_per_kwh = 0.115                     # constant - from LIJ energy bills\n",
    "kwh_generated = 7710200"
   ]
  },
  {
   "cell_type": "markdown",
   "metadata": {},
   "source": [
    "#### Cogeneration Equations"
   ]
  },
  {
   "cell_type": "code",
   "execution_count": 34,
   "metadata": {},
   "outputs": [],
   "source": [
    "savings_kwh = kwh_generated * dollars_per_kwh\n",
    "savings_therms = therms_out_cogen * dollars_per_therm_interuptable\n",
    "cost_therms = therms_in_cogen * dollars_per_therm_noninteruptable\n",
    "cost_maintence = cogen_maintence_therms * dollars_per_therm_noninteruptable\n",
    "Nc_econ = (savings_kwh + savings_therms) / (cost_therms + cost_maintence)"
   ]
  },
  {
   "cell_type": "markdown",
   "metadata": {},
   "source": [
    "### Section 2.2: Boilers"
   ]
  },
  {
   "cell_type": "markdown",
   "metadata": {},
   "source": [
    "#### Boiler Variables"
   ]
  },
  {
   "cell_type": "code",
   "execution_count": 35,
   "metadata": {},
   "outputs": [],
   "source": [
    "boiler_maintence_cost = 'how much was spent on boiler maintence including material, labor, time, and operation costs' # given by sponsor \n",
    "gas_dollar_value = 'the cost of the gas that is burned in the boilers (dollars)'\n",
    "Nb_econ =  'final economic efficiency of boilers'\n",
    "total_boiler_maintence_costs = 'total maintence costs after adding correction factor'\n",
    "boiler_final_cost = 'total cost for the plant to run boilers at current rates of operation'"
   ]
  },
  {
   "cell_type": "markdown",
   "metadata": {},
   "source": [
    "#### Boiler Values"
   ]
  },
  {
   "cell_type": "code",
   "execution_count": 36,
   "metadata": {},
   "outputs": [],
   "source": [
    "boiler_maintence_cost = 10000.0"
   ]
  },
  {
   "cell_type": "markdown",
   "metadata": {},
   "source": [
    "#### Boiler Equations"
   ]
  },
  {
   "cell_type": "code",
   "execution_count": 37,
   "metadata": {},
   "outputs": [],
   "source": [
    "gas_dollar_value = (gas_to_therms * G_vol) * dollars_per_therm_interuptable\n",
    "total_boiler_maintence_costs = boiler_maintence_cost * boiler_maintence_correction_factor\n",
    "boiler_energy_out_dollar_value = (Nb * gas_dollar_value) \n",
    "boiler_final_cost = gas_dollar_value + total_boiler_maintence_costs\n",
    "Nb_econ = boiler_energy_out_dollar_value / boiler_final_cost "
   ]
  },
  {
   "cell_type": "markdown",
   "metadata": {},
   "source": [
    "## Results"
   ]
  },
  {
   "cell_type": "code",
   "execution_count": 38,
   "metadata": {},
   "outputs": [
    {
     "name": "stdout",
     "output_type": "stream",
     "text": [
      "Final Answers:\n",
      "\n",
      "\n",
      "Cogeneration Economy Ratio\n",
      "1.5455\n",
      "\n",
      "Boiler Economy Ratio\n",
      "0.7884\n",
      "\n",
      "Generator Economy Ratio\n",
      "5.616\n"
     ]
    }
   ],
   "source": [
    "print('Final Answers:')\n",
    "print('\\n')\n",
    "print('Cogeneration Economy Ratio')\n",
    "Nc_econ = round(Nc_econ, 4)\n",
    "print(Nc_econ) \n",
    "print()\n",
    "print('Boiler Economy Ratio')\n",
    "Nb_econ = round(Nb_econ, 4)\n",
    "print(Nb_econ)\n",
    "print()\n",
    "print('Generator Economy Ratio')\n",
    "generator_economic_efficiency = savings_kwh / (kwh_therms_equivalent * dollars_per_therm_noninteruptable)   \n",
    "# This equation which shows how much more ecomomically efficient kWh are than therms, i.e., we assumed \n",
    "# theoretical conversion rates between kWh and therms but in reality kWh are 4 to 5 times more valuble\n",
    "# than therms. This is because energy is always lost in the process of converting heat to electricity.\n",
    "# This also explains why Cogen has less raw efficiency (Wout/Win) but higher economic efficiency.\n",
    "generator_economic_efficiency = round(generator_economic_efficiency, 3)\n",
    "print(generator_economic_efficiency)"
   ]
  },
  {
   "cell_type": "markdown",
   "metadata": {},
   "source": [
    "##### Explanation of Results\n",
    "   Cogeneration Economic Efficiency - when accounting for the economic value of producing on site electricity and utilization of waste heat, cogeneration nearly doubles the economic value that is put into it. When accounting for a generous plant efficiency being about 80%, the actual annual ROI is about 150% or 2.5X (this does not account for initial equiptment costs). \n",
    "   \n",
    "   Boiler Economic Efficiency - since the only boiler output is in the form of heated steam, therms is the only unit used and it remains consistent with original energy effiency. The difference here accounts for maintenence cost of the boiler so the economic efficiency will drop based on how much work was done over time. This is a great tool in measuring the trends of a boiler efficiency accross its service life and when performing an economic analysis to determine payback on installing a replacement boiler. These boilers are currently young and have a healthy efficiency rating.\n",
    "   \n",
    "   Generator economic efficiency - this variable just isolates the generator component and determines how efficient just the electricity producing component is. This component alone makes electricity 4.5 times cheaper than grid-based electricity. This proves that theoretical energy conversions from kWh to Therms does not suffice. Power plants can produce this electricity cheaply but line losses accross miles of transmission and transformer step up/down losses makes grid efficiency pale in comparison to the operating efficiency of hospital cogeneration. The reasons for the lower overall Cogeneration Economic Efficiency is cheifly from heat losses in the prime mover."
   ]
  },
  {
   "cell_type": "markdown",
   "metadata": {},
   "source": [
    "##### Limitations\n",
    "\n",
    "This program does not account for the cost differences for inital building of the plant. Upon comparisons to their initial costs, the ballpark figures are very similar with cogen being somewhat more expensive when equalizing for their respective power outputs. This is a limitation that would change economic efficiency, but not by any marked amount. Payback analysis for cogeneration is done separately with a basis of comparing inital costs to \"economic efficiency\" overtime. This gives Economic Efficiency tremendous utility for economic analysis and is not harmed by discounting initial costs. \n",
    "\n",
    "Since the boilers and cogeneration plant are of different ages, their relative efficiencies might be slightly skewed. In an ideal scenario this analysis would compare two systems that were installed and used simultaneously. To combat this, datapoints were taken across a large timeframe that reflects the average annual usage of this equiptment. \n",
    "\n",
    "Constants vary greatly by source. Every constant used in this program provides a source but some fluctuate and are imperfect. For example kWh and natral gas prices are always changing and legislative intervention (interruptible/noninterruptible rates) are unpredictable when measuring accross time. \n",
    "\n",
    "No analysis is perfect and other limitations are the ones not yet realized. Any cogeneration or boiler plant nuances that I've missed could potentially skew these results. For those viewing this project, please add any improvements in a pull request or contact me with suggestions. "
   ]
  },
  {
   "cell_type": "markdown",
   "metadata": {},
   "source": [
    "## Conclusion"
   ]
  },
  {
   "cell_type": "markdown",
   "metadata": {},
   "source": [
    "Cogeneration, especially in hospitals, is remarkably efficient and a useful tool for reducing emmisions. Local Laws 95 and 97 do not account for this because they isolate NYC buildings; an area outside of where most electricity generation occurs. Rapid electrification of cities may not be the best approach for reducing emmissions because electricity generation is still is heavily reliant on the burning of fossil fuels. As long as NYC relies on hydrocarbon-based power plants for electricity, grid nodes are a favorable option for emission reduction and should not be penalized by regulators. This project calls for more research into the requirements of Local Laws 95 and 97 as they pertain to hospitals and other energy prosumers. "
   ]
  }
 ],
 "metadata": {
  "kernelspec": {
   "display_name": "Python 3",
   "language": "python",
   "name": "python3"
  },
  "language_info": {
   "codemirror_mode": {
    "name": "ipython",
    "version": 3
   },
   "file_extension": ".py",
   "mimetype": "text/x-python",
   "name": "python",
   "nbconvert_exporter": "python",
   "pygments_lexer": "ipython3",
   "version": "3.7.4"
  }
 },
 "nbformat": 4,
 "nbformat_minor": 2
}
